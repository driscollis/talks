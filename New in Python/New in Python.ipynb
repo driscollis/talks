{
 "cells": [
  {
   "cell_type": "markdown",
   "metadata": {
    "slideshow": {
     "slide_type": "slide"
    }
   },
   "source": [
    "# New Features in Python 3.8 - 3.11\n",
    "\n",
    "### Mike Driscoll"
   ]
  },
  {
   "cell_type": "markdown",
   "metadata": {
    "slideshow": {
     "slide_type": "slide"
    }
   },
   "source": [
    "# Python 3.8 - New Feature Highlights 🎉\n",
    "\n",
    "- PEP 572: [Assignment Expressions](https://www.python.org/dev/peps/pep-0572)\n",
    "- PEP 570: [Positional-only Parameters](https://www.python.org/dev/peps/pep-0570)\n",
    "- PEP 578: [Python Runtime Audit Hooks](https://www.python.org/dev/peps/pep-0578)\n",
    "- PEP 587 and PEP 590 - C-related enhancements to the language\n",
    "- PEP 574: [Pickle enhancements](https://www.python.org/dev/peps/pep-0574)"
   ]
  },
  {
   "cell_type": "markdown",
   "metadata": {
    "slideshow": {
     "slide_type": "subslide"
    }
   },
   "source": [
    "## Assignment Expression\n",
    "\n",
    "There is new syntax `:=` that assigns values to variables as part of a larger expression. It is affectionately known as “the walrus operator”"
   ]
  },
  {
   "cell_type": "code",
   "execution_count": null,
   "metadata": {
    "slideshow": {
     "slide_type": "subslide"
    }
   },
   "outputs": [],
   "source": [
    "a = list(range(12))\n",
    "\n",
    "if (n := len(a)) > 10:\n",
    "    print(f\"List is too long ({n} elements, expected <= 10)\")"
   ]
  },
  {
   "cell_type": "code",
   "execution_count": null,
   "metadata": {
    "slideshow": {
     "slide_type": "subslide"
    }
   },
   "outputs": [],
   "source": [
    "# Loop over fixed length blocks\n",
    "while (block := f.read(256)) != '':\n",
    "    process(block)"
   ]
  },
  {
   "cell_type": "markdown",
   "metadata": {
    "slideshow": {
     "slide_type": "subslide"
    }
   },
   "source": [
    "## Positional-only Parameters"
   ]
  },
  {
   "cell_type": "markdown",
   "metadata": {
    "slideshow": {
     "slide_type": "subslide"
    }
   },
   "source": [
    "From the “ten-thousand foot view”, eliding \\*args and \\**kwargs for illustration, the grammar for a function definition would look like:\n",
    "\n",
    "```python\n",
    "def name(positional_or_keyword_parameters, *, keyword_only_parameters):`\n",
    "```\n",
    "\n",
    "Building on that example, the new syntax for function definitions would look like:\n",
    "\n",
    "```python\n",
    "def name(positional_only_parameters, /, positional_or_keyword_parameters,\n",
    "         *, keyword_only_parameters):\n",
    "```\n",
    "\n",
    "from https://peps.python.org/pep-0570/#syntax-and-semantics"
   ]
  },
  {
   "cell_type": "markdown",
   "metadata": {
    "slideshow": {
     "slide_type": "slide"
    }
   },
   "source": [
    "# Python 3.8 - New f-string capability\n",
    "\n",
    "- f-strings support `=` for self-documenting expressions and debugging"
   ]
  },
  {
   "cell_type": "code",
   "execution_count": 9,
   "metadata": {
    "slideshow": {
     "slide_type": "subslide"
    }
   },
   "outputs": [
    {
     "data": {
      "text/plain": [
       "\"user = 'eric_idle' member_since = datetime.date(1975, 7, 31)\""
      ]
     },
     "execution_count": 9,
     "metadata": {},
     "output_type": "execute_result"
    }
   ],
   "source": [
    "from datetime import date\n",
    "\n",
    "user = 'eric_idle'\n",
    "member_since = date(1975, 7, 31)\n",
    "f'{user = } {member_since = }'"
   ]
  },
  {
   "cell_type": "code",
   "execution_count": 10,
   "metadata": {
    "slideshow": {
     "slide_type": "subslide"
    }
   },
   "outputs": [
    {
     "data": {
      "text/plain": [
       "'user = eric_idle  delta.days = 17,267'"
      ]
     },
     "execution_count": 10,
     "metadata": {},
     "output_type": "execute_result"
    }
   ],
   "source": [
    "delta = date.today() - member_since\n",
    "f'{user = !s}  {delta.days = :,d}'"
   ]
  },
  {
   "cell_type": "markdown",
   "metadata": {
    "slideshow": {
     "slide_type": "slide"
    }
   },
   "source": [
    "# Python 3.8 - Improved Modules\n",
    "\n",
    "https://docs.python.org/3/whatsnew/3.8.html#improved-modules"
   ]
  },
  {
   "cell_type": "markdown",
   "metadata": {
    "slideshow": {
     "slide_type": "slide"
    }
   },
   "source": [
    "# Python 3.9 - New Feature Highlights 🎉\n",
    "\n",
    "- [PEP 584](https://www.python.org/dev/peps/pep-0584), union operators added to dict\n",
    "- [PEP 585](https://www.python.org/dev/peps/pep-0585), type hinting generics in standard collections\n",
    "- [PEP 614](https://www.python.org/dev/peps/pep-0614), relaxed grammar restrictions on decorators.\n",
    "- [PEP 616](https://www.python.org/dev/peps/pep-0616), string methods to remove prefixes and suffixes."
   ]
  },
  {
   "cell_type": "markdown",
   "metadata": {
    "slideshow": {
     "slide_type": "slide"
    }
   },
   "source": [
    "# 3.9 - Union Operators Added to `dict`"
   ]
  },
  {
   "cell_type": "code",
   "execution_count": 13,
   "metadata": {
    "slideshow": {
     "slide_type": "subslide"
    }
   },
   "outputs": [
    {
     "name": "stdout",
     "output_type": "stream",
     "text": [
      "{'name': 'Mike', 'job': 'backend engineer', 'location': 'Iowa', 'hobby': 'writing'}\n"
     ]
    }
   ],
   "source": [
    "# Ye olde way to merge dictionaries\n",
    "\n",
    "a = {\"name\": \"Mike\", \"job\": \"backend engineer\"}\n",
    "b = {\"location\": \"Iowa\", \"hobby\": \"writing\"}\n",
    "\n",
    "merged_dictionary = {**a, **b}\n",
    "print(merged_dictionary)"
   ]
  },
  {
   "cell_type": "code",
   "execution_count": 14,
   "metadata": {
    "slideshow": {
     "slide_type": "subslide"
    }
   },
   "outputs": [
    {
     "name": "stdout",
     "output_type": "stream",
     "text": [
      "{'name': 'Mike', 'job': 'backend engineer', 'location': 'Iowa', 'hobby': 'writing'}\n"
     ]
    }
   ],
   "source": [
    "# The new way to merge dictionaries in Python 3.9\n",
    "\n",
    "a = {\"name\": \"Mike\", \"job\": \"backend engineer\"}\n",
    "b = {\"location\": \"Iowa\", \"hobby\": \"writing\"}\n",
    "\n",
    "merged_dictionary = a | b\n",
    "print(merged_dictionary) "
   ]
  },
  {
   "cell_type": "markdown",
   "metadata": {
    "slideshow": {
     "slide_type": "slide"
    }
   },
   "source": [
    "# Python 3.9 - Relaxed grammar restrictions on decorators\n",
    "\n",
    "[PEP 614](https://www.python.org/dev/peps/pep-0614)"
   ]
  },
  {
   "cell_type": "code",
   "execution_count": 15,
   "metadata": {
    "slideshow": {
     "slide_type": "subslide"
    }
   },
   "outputs": [
    {
     "name": "stdout",
     "output_type": "stream",
     "text": [
      "Hello World\n"
     ]
    }
   ],
   "source": [
    "# https://twitter.com/nedbat/status/1543933895514591237?s=20&t=BQqkER2JHJxLPXOO37_ByA\n",
    "\n",
    "@print\n",
    "@str.title\n",
    "@lambda c: c.__doc__\n",
    "class what:\n",
    "    \"hello world\""
   ]
  },
  {
   "cell_type": "markdown",
   "metadata": {
    "slideshow": {
     "slide_type": "slide"
    }
   },
   "source": [
    "# 3.9 - Type Hinting Generics in Standard Collections"
   ]
  },
  {
   "cell_type": "markdown",
   "metadata": {
    "slideshow": {
     "slide_type": "slide"
    }
   },
   "source": [
    "This change includes:\n",
    "\n",
    "- dict\n",
    "- tuple\n",
    "- list\n",
    "- set\n",
    "- type\n",
    "- Everything in the `collections` module\n",
    "- A couple of items in `contextlib` an `re`\n",
    "\n",
    "https://peps.python.org/pep-0585/"
   ]
  },
  {
   "cell_type": "code",
   "execution_count": null,
   "metadata": {
    "slideshow": {
     "slide_type": "subslide"
    }
   },
   "outputs": [],
   "source": [
    "# Pre-3.9\n",
    "\n",
    "from typing import List \n",
    "\n",
    "def greet_all(names: List[str]) -> None:\n",
    "    for name in names:\n",
    "        print(\"Hello\", name)"
   ]
  },
  {
   "cell_type": "code",
   "execution_count": null,
   "metadata": {
    "slideshow": {
     "slide_type": "subslide"
    }
   },
   "outputs": [],
   "source": [
    "# New 3.9 removes import\n",
    "\n",
    "def greet_all(names: list[str]) -> None:\n",
    "    for name in names:\n",
    "        print(\"Hello\", name)"
   ]
  },
  {
   "cell_type": "markdown",
   "metadata": {
    "slideshow": {
     "slide_type": "slide"
    }
   },
   "source": [
    "# 3.9 - New Modules\n",
    "\n",
    "- `graphlib`\n",
    "- `zoneinfo`"
   ]
  },
  {
   "cell_type": "markdown",
   "metadata": {
    "slideshow": {
     "slide_type": "slide"
    }
   },
   "source": [
    "# 3.9 - The `graphlib` Module\n",
    "\n",
    "A new module, `graphlib`, was added that contains the `graphlib.TopologicalSorter` class to offer functionality to perform topological sorting of graphs"
   ]
  },
  {
   "cell_type": "markdown",
   "metadata": {
    "slideshow": {
     "slide_type": "slide"
    }
   },
   "source": [
    "# 3.9 - The `zoneinfo` Module\n",
    "\n",
    "The `zoneinfo` module brings support for the IANA time zone database to the standard library. It adds `zoneinfo.ZoneInfo`, a concrete `datetime.tzinfo` implementation backed by the system’s time zone data."
   ]
  },
  {
   "cell_type": "code",
   "execution_count": 16,
   "metadata": {
    "slideshow": {
     "slide_type": "subslide"
    }
   },
   "outputs": [
    {
     "name": "stdout",
     "output_type": "stream",
     "text": [
      "2020-10-31 12:00:00-07:00\n",
      "PDT\n",
      "2020-11-07 12:00:00-08:00\n",
      "PST\n"
     ]
    }
   ],
   "source": [
    "from zoneinfo import ZoneInfo\n",
    "from datetime import datetime, timedelta\n",
    "\n",
    "# Daylight saving time\n",
    "dt = datetime(2020, 10, 31, 12, tzinfo=ZoneInfo(\"America/Los_Angeles\"))\n",
    "print(dt)\n",
    "print(dt.tzname())\n",
    "\n",
    "# Standard time\n",
    "dt += timedelta(days=7)\n",
    "print(dt)\n",
    "\n",
    "print(dt.tzname())"
   ]
  },
  {
   "cell_type": "markdown",
   "metadata": {
    "slideshow": {
     "slide_type": "slide"
    }
   },
   "source": [
    "# 3.9 - Lots of Module Improvements\n",
    "\n",
    "https://docs.python.org/3/whatsnew/3.9.html#improved-modules"
   ]
  },
  {
   "cell_type": "markdown",
   "metadata": {
    "slideshow": {
     "slide_type": "slide"
    }
   },
   "source": [
    "# 🎉 Python 3.10 - New Feature Highlights 🎉\n",
    "\n",
    "- Structural Pattern Matching (i.e. case / match)\n",
    "- Parenthesized context managers\n",
    "- New typing features\n",
    "- Better error messages\n",
    "- Important deprecations, removals or restrictions"
   ]
  },
  {
   "cell_type": "markdown",
   "metadata": {
    "slideshow": {
     "slide_type": "slide"
    }
   },
   "source": [
    "# 3.10 - Structural Pattern Matching"
   ]
  },
  {
   "cell_type": "code",
   "execution_count": null,
   "metadata": {
    "slideshow": {
     "slide_type": "subslide"
    }
   },
   "outputs": [],
   "source": [
    "# Generic example\n",
    "\n",
    "match subject:\n",
    "    case <pattern_1>:\n",
    "        <action_1>\n",
    "    case <pattern_2>:\n",
    "        <action_2>\n",
    "    case <pattern_3>:\n",
    "        <action_3>\n",
    "    case _:\n",
    "        <action_wildcard>"
   ]
  },
  {
   "cell_type": "markdown",
   "metadata": {
    "slideshow": {
     "slide_type": "slide"
    }
   },
   "source": [
    "# Let's See a Practical Example"
   ]
  },
  {
   "cell_type": "code",
   "execution_count": 17,
   "metadata": {
    "slideshow": {
     "slide_type": "subslide"
    }
   },
   "outputs": [
    {
     "data": {
      "text/plain": [
       "'Not found'"
      ]
     },
     "execution_count": 17,
     "metadata": {},
     "output_type": "execute_result"
    }
   ],
   "source": [
    "def http_error(status):\n",
    "    match status:\n",
    "        case 400:\n",
    "            return \"Bad request\"\n",
    "        case 404:\n",
    "            return \"Not found\"\n",
    "        case 418:\n",
    "            return \"I'm a teapot\"\n",
    "        case _:\n",
    "            return \"Something's wrong with the internet\"\n",
    "        \n",
    "http_error(404)"
   ]
  },
  {
   "cell_type": "markdown",
   "metadata": {
    "slideshow": {
     "slide_type": "slide"
    }
   },
   "source": [
    "# Combining Several Literals"
   ]
  },
  {
   "cell_type": "code",
   "execution_count": null,
   "metadata": {
    "slideshow": {
     "slide_type": "subslide"
    }
   },
   "outputs": [],
   "source": [
    "def http_error(status):\n",
    "    match status:\n",
    "        case 401 | 403 | 404:      # < ---- Combining multiple literals\n",
    "            return \"Not allowed\"\n",
    "        case _:\n",
    "            return \"Something's wrong with the internet\""
   ]
  },
  {
   "cell_type": "markdown",
   "metadata": {
    "slideshow": {
     "slide_type": "slide"
    }
   },
   "source": [
    "# 3.10 - New Type Union Operator"
   ]
  },
  {
   "cell_type": "code",
   "execution_count": null,
   "metadata": {
    "slideshow": {
     "slide_type": "subslide"
    }
   },
   "outputs": [],
   "source": [
    "# Before 3.10\n",
    "\n",
    "from typing import Union\n",
    "\n",
    "def square(number: Union[int, float]) -> Union[int, float]:\n",
    "    return number ** 2\n",
    "\n",
    "# 3.10+\n",
    "\n",
    "def square(number: int | float) -> int | float:\n",
    "    return number ** 2"
   ]
  },
  {
   "cell_type": "markdown",
   "metadata": {
    "slideshow": {
     "slide_type": "slide"
    }
   },
   "source": [
    "# 3.10 - Union Operator works in `isinstance` and `issubclass`"
   ]
  },
  {
   "cell_type": "code",
   "execution_count": 19,
   "metadata": {
    "slideshow": {
     "slide_type": "subslide"
    }
   },
   "outputs": [
    {
     "data": {
      "text/plain": [
       "True"
      ]
     },
     "execution_count": 19,
     "metadata": {},
     "output_type": "execute_result"
    }
   ],
   "source": [
    "isinstance(1, int | str)"
   ]
  },
  {
   "cell_type": "markdown",
   "metadata": {
    "slideshow": {
     "slide_type": "slide"
    }
   },
   "source": [
    "# 3.10 - Better Error Messages\n",
    "\n",
    "https://docs.python.org/3/whatsnew/3.10.html#better-error-messages"
   ]
  },
  {
   "cell_type": "markdown",
   "metadata": {
    "slideshow": {
     "slide_type": "slide"
    }
   },
   "source": [
    "# 🎉 Python 3.11 - New Feature Highlights 🎉\n",
    "\n",
    "- Python is FASTER! 🚀\n",
    "- PEP 654: [Exception Groups and except*](https://docs.python.org/3/whatsnew/3.11.html#whatsnew311-pep654)\n",
    "- PEP 680: [tomllib](https://docs.python.org/3/library/tomllib.html#module-tomllib) — Support for parsing TOML in the Standard Library\n",
    "- PEP 657: [Fine-grained error locations in tracebacks](https://docs.python.org/3/whatsnew/3.11.html#whatsnew311-pep657)\n",
    "- New typing features\n",
    "- Deprecations"
   ]
  },
  {
   "cell_type": "markdown",
   "metadata": {
    "slideshow": {
     "slide_type": "slide"
    }
   },
   "source": [
    "# 🚀 Faster Python 🚀\n",
    "\n",
    "Python 3.11 is between 10-60% faster than Python 3.10. On average, we measured a 1.25x speedup on the standard benchmark suite. - [Faster CPython](https://docs.python.org/3/whatsnew/3.11.html#whatsnew311-faster-cpython)"
   ]
  },
  {
   "cell_type": "markdown",
   "metadata": {
    "slideshow": {
     "slide_type": "slide"
    }
   },
   "source": [
    "# PEP 657: Fine-grained error locations in tracebacks"
   ]
  },
  {
   "cell_type": "markdown",
   "metadata": {
    "slideshow": {
     "slide_type": "subslide"
    }
   },
   "source": [
    "# Example of fine-grained error location\n",
    "\n",
    "```python\n",
    "Traceback (most recent call last):\n",
    "  File \"distance.py\", line 11, in <module>\n",
    "    print(manhattan_distance(p1, p2))\n",
    "          ^^^^^^^^^^^^^^^^^^^^^^^^^^\n",
    "  File \"distance.py\", line 6, in manhattan_distance\n",
    "    return abs(point_1.x - point_2.x) + abs(point_1.y - point_2.y)\n",
    "                           ^^^^^^^^^\n",
    "AttributeError: 'NoneType' object has no attribute 'x'\n",
    "```"
   ]
  },
  {
   "cell_type": "markdown",
   "metadata": {
    "slideshow": {
     "slide_type": "subslide"
    }
   },
   "source": [
    "# Another example\n",
    "\n",
    "```python\n",
    "Traceback (most recent call last):\n",
    "  File \"query.py\", line 37, in <module>\n",
    "    magic_arithmetic('foo')\n",
    "  File \"query.py\", line 18, in magic_arithmetic\n",
    "    return add_counts(x) / 25\n",
    "           ^^^^^^^^^^^^^\n",
    "  File \"query.py\", line 24, in add_counts\n",
    "    return 25 + query_user(user1) + query_user(user2)\n",
    "                ^^^^^^^^^^^^^^^^^\n",
    "  File \"query.py\", line 32, in query_user\n",
    "    return 1 + query_count(db, response['a']['b']['c']['user'], retry=True)\n",
    "                               ~~~~~~~~~~~~~~~~~~^^^^^\n",
    "TypeError: 'NoneType' object is not subscriptable\n",
    "```"
   ]
  },
  {
   "cell_type": "markdown",
   "metadata": {
    "slideshow": {
     "slide_type": "slide"
    }
   },
   "source": [
    "# tomllib — Parse TOML files\n",
    "\n",
    "https://docs.python.org/3/library/tomllib.html#module-tomllib"
   ]
  },
  {
   "cell_type": "markdown",
   "metadata": {
    "slideshow": {
     "slide_type": "subslide"
    }
   },
   "source": [
    "## Parsing a toml string"
   ]
  },
  {
   "cell_type": "code",
   "execution_count": 2,
   "metadata": {
    "slideshow": {
     "slide_type": "subslide"
    }
   },
   "outputs": [
    {
     "name": "stdout",
     "output_type": "stream",
     "text": [
      "{'python-version': '3.11.0', 'python-implementation': 'CPython'}\n"
     ]
    }
   ],
   "source": [
    "import tomllib\n",
    "\n",
    "toml_str = \"\"\"\n",
    "python-version = \"3.11.0\"\n",
    "python-implementation = \"CPython\"\n",
    "\"\"\"\n",
    "\n",
    "data = tomllib.loads(toml_str)\n",
    "print(data)"
   ]
  },
  {
   "cell_type": "markdown",
   "metadata": {
    "slideshow": {
     "slide_type": "slide"
    }
   },
   "source": [
    "# New typing features in 3.11 ⌨️\n",
    "\n",
    "- PEP 646: Variadic generics\n",
    "- PEP 655: Marking individual TypedDict items as required or not-required\n",
    "- PEP 673: Self type\n",
    "- PEP 675: Arbitrary literal string type\n",
    "- PEP 681: Data class transforms"
   ]
  },
  {
   "cell_type": "markdown",
   "metadata": {
    "slideshow": {
     "slide_type": "slide"
    }
   },
   "source": [
    "## PEP 655: Marking individual TypedDict items as required or not-required"
   ]
  },
  {
   "cell_type": "code",
   "execution_count": 22,
   "metadata": {
    "slideshow": {
     "slide_type": "subslide"
    }
   },
   "outputs": [],
   "source": [
    "from typing import TypedDict, NotRequired\n",
    "\n",
    "class Movie(TypedDict):\n",
    "   title: str\n",
    "   year: NotRequired[int]\n",
    "\n",
    "m1: Movie = {\"title\": \"Black Panther\", \"year\": 2018}  # OK\n",
    "m2: Movie = {\"title\": \"Star Wars\"}  # OK (year is not required)\n",
    "m3: Movie = {\"year\": 2022}  # ERROR (missing required field title)"
   ]
  },
  {
   "cell_type": "markdown",
   "metadata": {
    "slideshow": {
     "slide_type": "slide"
    }
   },
   "source": [
    "## PEP 673: Self type\n",
    "\n",
    "The new `Self` annotation provides a simple and intuitive way to annotate methods that return an instance of their class."
   ]
  },
  {
   "cell_type": "code",
   "execution_count": null,
   "metadata": {
    "slideshow": {
     "slide_type": "subslide"
    }
   },
   "outputs": [],
   "source": [
    "from typing import Self\n",
    "\n",
    "class MyLock:\n",
    "    def __enter__(self) -> Self:\n",
    "        self.lock()\n",
    "        return self\n",
    "\n",
    "    ...\n",
    "\n",
    "class MyInt:\n",
    "    @classmethod\n",
    "    def fromhex(cls, s: str) -> Self:\n",
    "        return cls(int(s, 16))\n",
    "\n",
    "    ..."
   ]
  },
  {
   "cell_type": "markdown",
   "metadata": {
    "slideshow": {
     "slide_type": "slide"
    }
   },
   "source": [
    "# Questions?"
   ]
  }
 ],
 "metadata": {
  "celltoolbar": "Slideshow",
  "kernelspec": {
   "display_name": "Python 3",
   "language": "python",
   "name": "python3"
  },
  "language_info": {
   "codemirror_mode": {
    "name": "ipython",
    "version": 3
   },
   "file_extension": ".py",
   "mimetype": "text/x-python",
   "name": "python",
   "nbconvert_exporter": "python",
   "pygments_lexer": "ipython3",
   "version": "3.8.1"
  }
 },
 "nbformat": 4,
 "nbformat_minor": 5
}
