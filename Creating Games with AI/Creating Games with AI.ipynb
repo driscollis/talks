{
 "cells": [
  {
   "cell_type": "markdown",
   "id": "cb4e5a7f-a424-4fdc-8b32-c97f3a9b6112",
   "metadata": {},
   "source": [
    "# Vibe Coding Games with AI and Python\n",
    "\n",
    "## Mike Driscoll"
   ]
  },
  {
   "cell_type": "markdown",
   "id": "aab394fb-d8d2-4920-a1a2-ce6a97472583",
   "metadata": {},
   "source": [
    "# What We Will Learn\n",
    "\n",
    "- What is Vibe Coding?\n",
    "- How is Vibe Coding Useful?\n",
    "- Comparing Different LLMs for Vibe Coding\n",
    "- Vibe Coding a Game in Python"
   ]
  },
  {
   "cell_type": "markdown",
   "id": "8d9a2265-01d3-41c6-ac2b-b8491b0cf3b4",
   "metadata": {},
   "source": [
    "## What is Vibe Coding?\n",
    "\n",
    "Using AI to write most or all of your code"
   ]
  },
  {
   "cell_type": "markdown",
   "id": "9c9216f8-c7cf-429f-ba06-8aedfa8f8db5",
   "metadata": {},
   "source": [
    "## How is Vibe Coding Useful?\n",
    "\n",
    "- Faster coding\n",
    "- Quicker learning\n",
    "- Can be good for test writing"
   ]
  },
  {
   "cell_type": "markdown",
   "id": "b4568712-3b60-4ae1-8851-6dcee35e50d2",
   "metadata": {},
   "source": [
    "## Vibe Coding Downsides\n",
    "\n",
    "- You don't learn as well\n",
    "- Mistakes in the code\n",
    "- Debugging is harder since you didn't write it"
   ]
  },
  {
   "cell_type": "markdown",
   "id": "79c1e743-0387-4520-bcb7-2a910c8299e2",
   "metadata": {},
   "source": [
    "## Comparing Different LLMs for Vibe Coding"
   ]
  },
  {
   "cell_type": "markdown",
   "id": "3ce91054-cc9b-4823-ba5f-d2ecfbc9a53b",
   "metadata": {},
   "source": [
    "## Vibe Coding a Game in Python"
   ]
  },
  {
   "cell_type": "markdown",
   "id": "02775d89-4211-47e0-8005-71ff5080d8f2",
   "metadata": {},
   "source": []
  },
  {
   "cell_type": "markdown",
   "id": "0bdad3b1-56ae-4564-a893-a8d38f0ec606",
   "metadata": {},
   "source": []
  },
  {
   "cell_type": "markdown",
   "id": "f7c1a93a-c729-4b08-a862-9875a8fa0ce5",
   "metadata": {},
   "source": []
  }
 ],
 "metadata": {
  "kernelspec": {
   "display_name": "Python 3 (ipykernel)",
   "language": "python",
   "name": "python3"
  },
  "language_info": {
   "codemirror_mode": {
    "name": "ipython",
    "version": 3
   },
   "file_extension": ".py",
   "mimetype": "text/x-python",
   "name": "python",
   "nbconvert_exporter": "python",
   "pygments_lexer": "ipython3",
   "version": "3.12.3"
  }
 },
 "nbformat": 4,
 "nbformat_minor": 5
}
